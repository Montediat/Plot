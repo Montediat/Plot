{
 "cells": [
  {
   "cell_type": "markdown",
   "id": "cd97e400-98d0-44e5-8fcc-a1670bd691c5",
   "metadata": {
    "editable": true,
    "slideshow": {
     "slide_type": ""
    },
    "tags": []
   },
   "source": [
    "Imports Panda"
   ]
  },
  {
   "cell_type": "code",
   "execution_count": 1,
   "id": "e3400be9-4f5c-4066-a869-dd2e0ac2d3e8",
   "metadata": {
    "editable": true,
    "slideshow": {
     "slide_type": ""
    },
    "tags": []
   },
   "outputs": [],
   "source": [
    "import pandas as pd"
   ]
  },
  {
   "cell_type": "markdown",
   "id": "eeb81fa7-9fea-483f-bc5f-91cc21b4ddc7",
   "metadata": {
    "editable": true,
    "slideshow": {
     "slide_type": ""
    },
    "tags": []
   },
   "source": [
    "Creating a DataFrame from a .csv File"
   ]
  },
  {
   "cell_type": "code",
   "execution_count": 2,
   "id": "7c241aee-e8a0-4c25-bbf4-672ea932de05",
   "metadata": {
    "editable": true,
    "slideshow": {
     "slide_type": ""
    },
    "tags": []
   },
   "outputs": [],
   "source": [
    "students_df = pd.read_csv('./students.csv')"
   ]
  },
  {
   "cell_type": "markdown",
   "id": "5f166dc4-4fd9-4db4-84cb-40b1efe40048",
   "metadata": {
    "editable": true,
    "slideshow": {
     "slide_type": ""
    },
    "tags": []
   },
   "source": [
    "Print the first 6 rows of the DataFrame"
   ]
  },
  {
   "cell_type": "code",
   "execution_count": 3,
   "id": "ccdd8aed-f44a-424c-ab6f-c9a6fc63ffbc",
   "metadata": {
    "editable": true,
    "slideshow": {
     "slide_type": ""
    },
    "tags": []
   },
   "outputs": [
    {
     "name": "stdout",
     "output_type": "stream",
     "text": [
      "   StudentID     Name  Age  Grade\n",
      "0        101    Alice   16     10\n",
      "1        102      Bob   17     11\n",
      "2        103  Charlie   16     10\n",
      "3        104    David   17     11\n",
      "4        105      Eva   16     10\n",
      "5        106    Frank   16     10\n"
     ]
    }
   ],
   "source": [
    "print(students_df.head(6))  # Shows the first 6 rows"
   ]
  },
  {
   "cell_type": "markdown",
   "id": "37b4e821-10b8-4eaa-bd9a-3a7c1fe25cf8",
   "metadata": {},
   "source": [
    "Print the last 3 rows of the DataFrame"
   ]
  },
  {
   "cell_type": "code",
   "execution_count": 4,
   "id": "41ef601d-5a05-46e8-802f-caac9839b2bb",
   "metadata": {},
   "outputs": [
    {
     "name": "stdout",
     "output_type": "stream",
     "text": [
      "   StudentID    Name  Age  Grade\n",
      "7        108  Hannah   16     10\n",
      "8        109     Ivy   17     11\n",
      "9        110    Jack   16     10\n"
     ]
    }
   ],
   "source": [
    "print(students_df.tail(3))  # Shows the last 3 rows"
   ]
  },
  {
   "cell_type": "markdown",
   "id": "0df85784-a9c2-42ba-95b1-322efc175332",
   "metadata": {},
   "source": [
    "Checking the Shape of a DataFrame\n",
    "\n",
    "The next important thing we’ll check is the shape of our DataFrame. Datasets come in all shapes and sizes, and we won’t always know what to expect. Checking the shape gives us a quick way to see if we’re working with 300 columns and 2 million rows or something much smaller."
   ]
  },
  {
   "cell_type": "markdown",
   "id": "33eeae6c-ed9d-4b08-af56-ef12f6f03b0e",
   "metadata": {},
   "source": [
    "Finding the shape of our data"
   ]
  },
  {
   "cell_type": "code",
   "execution_count": 5,
   "id": "92e3c32d-64e8-4034-86d8-987a7e52d814",
   "metadata": {},
   "outputs": [
    {
     "name": "stdout",
     "output_type": "stream",
     "text": [
      "(10, 4)\n"
     ]
    }
   ],
   "source": [
    "print(students_df.shape) #Finding the shape of our data"
   ]
  },
  {
   "cell_type": "markdown",
   "id": "159806c0-072c-4436-8ea0-eb3c052559f1",
   "metadata": {},
   "source": [
    "Checking Column Names\n",
    "\n",
    "Another important step is looking at our column names. Datasets don’t always have clear or consistent column names, so printing them out helps us see what we’re working with. This way, we can spot any weird names, typos, or extra spaces that might cause issues later."
   ]
  },
  {
   "cell_type": "markdown",
   "id": "e8d7be0b-a242-4e68-b709-6ee6e67fca3e",
   "metadata": {},
   "source": [
    "Print the Column names"
   ]
  },
  {
   "cell_type": "code",
   "execution_count": 6,
   "id": "7850abf2-adea-4d13-af05-7d15b25cfed7",
   "metadata": {
    "editable": true,
    "slideshow": {
     "slide_type": ""
    },
    "tags": []
   },
   "outputs": [
    {
     "name": "stdout",
     "output_type": "stream",
     "text": [
      "Index(['StudentID', 'Name', 'Age', 'Grade'], dtype='object')\n"
     ]
    }
   ],
   "source": [
    "print(students_df.columns)"
   ]
  },
  {
   "cell_type": "markdown",
   "id": "179365e2-ac4c-40f6-99e0-6ece4cbb44c7",
   "metadata": {},
   "source": [
    "Finding Null Values\n",
    "\n",
    "Real-world data is messy, and missing values are pretty common. We can check for null values to see if we’re missing important information. This helps us decide if we need to clean the data, fill in gaps, or drop certain rows or columns."
   ]
  },
  {
   "cell_type": "code",
   "execution_count": 7,
   "id": "1ab8f86c-225c-4eb4-a134-222577255077",
   "metadata": {},
   "outputs": [
    {
     "name": "stdout",
     "output_type": "stream",
     "text": [
      "StudentID    0\n",
      "Name         0\n",
      "Age          0\n",
      "Grade        0\n",
      "dtype: int64\n"
     ]
    }
   ],
   "source": [
    "# Check for null values in the entire DataFrame\n",
    "print(students_df.isnull().sum())"
   ]
  },
  {
   "cell_type": "code",
   "execution_count": 8,
   "id": "e21f429e-45b8-4be0-b156-780c9eb59cbc",
   "metadata": {},
   "outputs": [
    {
     "name": "stdout",
     "output_type": "stream",
     "text": [
      "0\n",
      "0\n",
      "0\n",
      "0\n",
      "StudentID    0\n",
      "Name         0\n",
      "Age          0\n",
      "Grade        0\n",
      "dtype: int64\n"
     ]
    }
   ],
   "source": [
    "# Alternatively, check for null values in specific columns\n",
    "print(students_df['StudentID'].isnull().sum())\n",
    "print(students_df['Name'].isnull().sum())\n",
    "print(students_df['Age'].isnull().sum())\n",
    "print(students_df['Grade'].isnull().sum())\n",
    "# Check for null values in the entire DataFrame\n",
    "print(students_df.isnull().sum())"
   ]
  },
  {
   "cell_type": "code",
   "execution_count": 9,
   "id": "3fa6c67d-cd59-4fcf-ae04-9ceb61d1d622",
   "metadata": {},
   "outputs": [
    {
     "name": "stdout",
     "output_type": "stream",
     "text": [
      "StudentID     int64\n",
      "Name         object\n",
      "Age           int64\n",
      "Grade         int64\n",
      "dtype: object\n"
     ]
    }
   ],
   "source": [
    "# Print the Data types\n",
    "print(students_df.dtypes)"
   ]
  },
  {
   "cell_type": "code",
   "execution_count": 13,
   "id": "50b85cb6-cd66-4af5-b48b-4b3a18a82312",
   "metadata": {},
   "outputs": [],
   "source": [
    "# Convert Grade to a string\n",
    "#students_df['Grade'] = .astype(students_df['Grade'])\n",
    "students_df['Grade'] = students_df['Grade'].astype(str)"
   ]
  },
  {
   "cell_type": "code",
   "execution_count": 14,
   "id": "a01c17e0-f0c0-4aa1-8b08-1e75b8f1704e",
   "metadata": {},
   "outputs": [
    {
     "name": "stdout",
     "output_type": "stream",
     "text": [
      "StudentID     int64\n",
      "Name         object\n",
      "Age           int64\n",
      "Grade        object\n",
      "dtype: object\n"
     ]
    }
   ],
   "source": [
    "# Print the Data types\n",
    "print(students_df.dtypes)"
   ]
  },
  {
   "cell_type": "markdown",
   "id": "4df1ee75-2914-424e-a086-f8d88a61f6e7",
   "metadata": {},
   "source": [
    "The .describe() method in pandas provides a quick statistical summary of your numerical columns, offering insights into the distribution and spread of your data. It is an essential step in Exploratory Data Analysis (EDA) because it helps you:\n",
    "\n",
    "# Understand Data Distribution: View basic statistics like count, mean, standard deviation, min/max values, and quartiles.\n",
    "# Identify Outliers: Spot unusually high or low values by examining min/max and percentiles.\n",
    "# Check Data Consistency: Ensure values are within expected ranges.\n",
    "# Assess Missing Data: The count can reveal discrepancies between the total rows and non-null entries."
   ]
  },
  {
   "cell_type": "code",
   "execution_count": 15,
   "id": "39e419be-aa16-4e2c-b48a-656f5c30f0df",
   "metadata": {},
   "outputs": [
    {
     "name": "stdout",
     "output_type": "stream",
     "text": [
      "       StudentID        Age\n",
      "count   10.00000  10.000000\n",
      "mean   105.50000  16.400000\n",
      "std      3.02765   0.516398\n",
      "min    101.00000  16.000000\n",
      "25%    103.25000  16.000000\n",
      "50%    105.50000  16.000000\n",
      "75%    107.75000  17.000000\n",
      "max    110.00000  17.000000\n"
     ]
    }
   ],
   "source": [
    "# Generate descriptive statistics\n",
    "print(students_df.describe())"
   ]
  },
  {
   "cell_type": "markdown",
   "id": "8e9daea3-9d81-4296-936f-ac9645a139ff",
   "metadata": {},
   "source": [
    "Key Insights from .describe():\n",
    "\n",
    "#️⃣ Central Tendency: The mean shows the average value of each column.\n",
    "#️⃣ Spread of Data: The std (standard deviation) indicates how spread out the values are.\n",
    "#️⃣ Minimum and Maximum: The min and max values can help identify potential outliers.\n",
    "#️⃣ Percentiles: The 25%, 50% (median), and 75% percentiles provide insights into the data distribution."
   ]
  },
  {
   "cell_type": "markdown",
   "id": "8c003043-6a0e-4d4f-900d-2bcc53ccb2f1",
   "metadata": {},
   "source": [
    "Benefits of Using .describe() Early in EDA:\n",
    "\n",
    "#️⃣ Quick Snapshot: It offers a concise overview of your data without needing to manually calculate metrics.\n",
    "#️⃣ Guides Further Analysis: Highlights columns that might need cleaning, transformation, or deeper investigation.\n",
    "#️⃣ Supports Data Cleaning: Reveals inconsistencies, such as unexpected minimum or maximum values.\n",
    "#️⃣ Informs Visualization Choices: Helps decide which plots might best represent the data."
   ]
  },
  {
   "cell_type": "markdown",
   "id": "8092ff65-b750-4024-a0b7-0fac6fc6c452",
   "metadata": {},
   "source": [
    "When using .describe() with the include='all' parameter, pandas generates descriptive statistics for both numerical and non-numerical (e.g., categorical, boolean, and object) columns. This provides a broader overview of the dataset, not limited to numerical summaries."
   ]
  },
  {
   "cell_type": "code",
   "execution_count": 16,
   "id": "d05009e4-9f99-411f-af44-70fea0b98e2c",
   "metadata": {},
   "outputs": [
    {
     "name": "stdout",
     "output_type": "stream",
     "text": [
      "        StudentID   Name        Age Grade\n",
      "count    10.00000     10  10.000000    10\n",
      "unique        NaN     10        NaN     2\n",
      "top           NaN  Alice        NaN    10\n",
      "freq          NaN      1        NaN     6\n",
      "mean    105.50000    NaN  16.400000   NaN\n",
      "std       3.02765    NaN   0.516398   NaN\n",
      "min     101.00000    NaN  16.000000   NaN\n",
      "25%     103.25000    NaN  16.000000   NaN\n",
      "50%     105.50000    NaN  16.000000   NaN\n",
      "75%     107.75000    NaN  17.000000   NaN\n",
      "max     110.00000    NaN  17.000000   NaN\n"
     ]
    }
   ],
   "source": [
    "print(students_df.describe(include='all'))"
   ]
  },
  {
   "cell_type": "markdown",
   "id": "41280d77-16d6-4eec-a96d-25060925951e",
   "metadata": {},
   "source": [
    "Let's find the sum of columns StudentID"
   ]
  }
 ],
 "metadata": {
  "kernelspec": {
   "display_name": "Python 3 (ipykernel)",
   "language": "python",
   "name": "python3"
  },
  "language_info": {
   "codemirror_mode": {
    "name": "ipython",
    "version": 3
   },
   "file_extension": ".py",
   "mimetype": "text/x-python",
   "name": "python",
   "nbconvert_exporter": "python",
   "pygments_lexer": "ipython3",
   "version": "3.13.1"
  }
 },
 "nbformat": 4,
 "nbformat_minor": 5
}
