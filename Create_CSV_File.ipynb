{
 "cells": [
  {
   "cell_type": "code",
   "execution_count": 1,
   "id": "108de7f2-b8af-4071-b6c0-a426a51390c4",
   "metadata": {},
   "outputs": [
    {
     "name": "stdout",
     "output_type": "stream",
     "text": [
      "CSV file 'students.csv' created successfully.\n"
     ]
    }
   ],
   "source": [
    "import pandas as pd\n",
    "\n",
    "# Define the student data\n",
    "students_data = {\n",
    "    'StudentID': [101, 102, 103, 104, 105, 106, 107, 108, 109, 110],\n",
    "    'Name': ['Alice', 'Bob', 'Charlie', 'David', 'Eva', 'Frank', 'Grace', 'Hannah', 'Ivy', 'Jack'],\n",
    "    'Age': [16, 17, 16, 17, 16, 16, 17, 16, 17, 16],\n",
    "    'Grade': ['10', '11', '10', '11', '10', '10', '11', '10', '11', '10']\n",
    "}\n",
    "\n",
    "# Convert to a DataFrame\n",
    "students_df = pd.DataFrame(students_data)\n",
    "\n",
    "# Save to CSV\n",
    "students_df.to_csv('students.csv', index=False)\n",
    "\n",
    "print(\"CSV file 'students.csv' created successfully.\")\n"
   ]
  },
  {
   "cell_type": "code",
   "execution_count": null,
   "id": "8b02fe55-b7bb-4f6c-bd19-3cd3b6cf8f60",
   "metadata": {
    "editable": true,
    "slideshow": {
     "slide_type": ""
    },
    "tags": []
   },
   "outputs": [],
   "source": []
  }
 ],
 "metadata": {
  "kernelspec": {
   "display_name": "Python 3 (ipykernel)",
   "language": "python",
   "name": "python3"
  },
  "language_info": {
   "codemirror_mode": {
    "name": "ipython",
    "version": 3
   },
   "file_extension": ".py",
   "mimetype": "text/x-python",
   "name": "python",
   "nbconvert_exporter": "python",
   "pygments_lexer": "ipython3",
   "version": "3.13.1"
  }
 },
 "nbformat": 4,
 "nbformat_minor": 5
}
