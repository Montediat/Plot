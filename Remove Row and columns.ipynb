{
 "cells": [
  {
   "cell_type": "markdown",
   "id": "21aa9f82-911e-4578-bafb-84c986e84e51",
   "metadata": {},
   "source": [
    "Remove Row and columns\n",
    "\n",
    "Sample Data (Pandas DataFrame)\n"
   ]
  },
  {
   "cell_type": "code",
   "execution_count": 1,
   "id": "e18e9916-1a62-4c99-8dcb-c3db93e02b20",
   "metadata": {},
   "outputs": [
    {
     "name": "stdout",
     "output_type": "stream",
     "text": [
      "   ID     Name  Age  Salary Department\n",
      "0   1    Alice   25   50000         HR\n",
      "1   2      Bob   30   60000         IT\n",
      "2   3  Charlie   35   70000         IT\n",
      "3   4    David   40   80000    Finance\n",
      "4   5      Eve   45   90000         HR\n"
     ]
    }
   ],
   "source": [
    "import pandas as pd\n",
    "\n",
    "data = {\n",
    "    'ID': [1, 2, 3, 4, 5],\n",
    "    'Name': ['Alice', 'Bob', 'Charlie', 'David', 'Eve'],\n",
    "    'Age': [25, 30, 35, 40, 45],\n",
    "    'Salary': [50000, 60000, 70000, 80000, 90000],\n",
    "    'Department': ['HR', 'IT', 'IT', 'Finance', 'HR']\n",
    "}\n",
    "\n",
    "df = pd.DataFrame(data)\n",
    "print(df)"
   ]
  },
  {
   "cell_type": "markdown",
   "id": "fa621812-3a74-4b21-9616-f0d854f07394",
   "metadata": {},
   "source": [
    "1. Remove Rows Where Age is Greater Than 35\n",
    "   \n",
    "❇️ Understanding df[df['Age'] <= 35]\n",
    "❇️ df['Age'] <= 35 creates a Boolean condition:\n",
    "❇️ If the age is less than or equal to 35, it returns True.\n",
    "❇️ If the age is greater than 35, it returns False."
   ]
  },
  {
   "cell_type": "code",
   "execution_count": 2,
   "id": "2d387316-a788-4f29-ae48-22ba8106cd60",
   "metadata": {},
   "outputs": [
    {
     "name": "stdout",
     "output_type": "stream",
     "text": [
      "   ID     Name  Age  Salary Department\n",
      "0   1    Alice   25   50000         HR\n",
      "1   2      Bob   30   60000         IT\n",
      "2   3  Charlie   35   70000         IT\n"
     ]
    }
   ],
   "source": [
    "import pandas as pd\n",
    "\n",
    "data = {\n",
    "    'ID': [1, 2, 3, 4, 5],\n",
    "    'Name': ['Alice', 'Bob', 'Charlie', 'David', 'Eve'],\n",
    "    'Age': [25, 30, 35, 40, 45],\n",
    "    'Salary': [50000, 60000, 70000, 80000, 90000],\n",
    "    'Department': ['HR', 'IT', 'IT', 'Finance', 'HR']\n",
    "}\n",
    "\n",
    "# df = pd.DataFrame(data)\n",
    "# print(df)\n",
    "df_filtered = df[df['Age'] <= 35]\n",
    "print(df_filtered)"
   ]
  },
  {
   "cell_type": "markdown",
   "id": "94c0c770-bdca-44ac-931a-242a12805a7d",
   "metadata": {},
   "source": [
    "Why This Works:\n",
    "\n",
    "❇️ The condition df['Age'] <= 35 acts as a filter.\n",
    "❇️ The DataFrame keeps only the rows where the condition is True.\n",
    "❇️ This is called Boolean Indexing in Pandas."
   ]
  },
  {
   "cell_type": "markdown",
   "id": "8d7050cd-21b1-4526-a7a6-6e0d308826c6",
   "metadata": {},
   "source": [
    "2. Remove a Column (e.g., Salary)\n",
    "\n",
    "❇️ Understanding df.drop(columns=['Salary'])\n",
    "❇️ df.drop(columns=['Salary']) tells Pandas to remove the column named Salary.\n",
    "❇️ The columns= argument specifies that we're dropping a column (not a row).\n",
    "❇️ The original DataFrame remains unchanged unless we assign the result to a new variable."
   ]
  },
  {
   "cell_type": "code",
   "execution_count": 3,
   "id": "1c96f996-bbd8-40ac-8def-d3ea3b859ac3",
   "metadata": {},
   "outputs": [
    {
     "name": "stdout",
     "output_type": "stream",
     "text": [
      "   ID     Name  Age Department\n",
      "0   1    Alice   25         HR\n",
      "1   2      Bob   30         IT\n",
      "2   3  Charlie   35         IT\n",
      "3   4    David   40    Finance\n",
      "4   5      Eve   45         HR\n"
     ]
    }
   ],
   "source": [
    "import pandas as pd\n",
    "\n",
    "data = {\n",
    "    'ID': [1, 2, 3, 4, 5],\n",
    "    'Name': ['Alice', 'Bob', 'Charlie', 'David', 'Eve'],\n",
    "    'Age': [25, 30, 35, 40, 45],\n",
    "    'Salary': [50000, 60000, 70000, 80000, 90000],\n",
    "    'Department': ['HR', 'IT', 'IT', 'Finance', 'HR']\n",
    "}\n",
    "\n",
    "# df = pd.DataFrame(data)\n",
    "# print(df)\n",
    "\n",
    "df_dropped_col = df.drop(columns=['Salary'])\n",
    "print(df_dropped_col)"
   ]
  },
  {
   "cell_type": "markdown",
   "id": "eae86446-5e62-46d5-86c8-f14eb8fac2bb",
   "metadata": {},
   "source": [
    "Why This Works:\n",
    "\n",
    "❇️ drop(columns=['Salary']) tells Pandas which column to remove.\n",
    "❇️ It does not modify the original DataFrame unless we assign it back (df = df.drop(columns=['Salary'])).\n",
    "❇️ This is useful when we want to remove unnecessary data before analysis."
   ]
  },
  {
   "cell_type": "markdown",
   "id": "00bd8597-18cd-4d3f-a9ff-26353c256a81",
   "metadata": {},
   "source": [
    "3. Add a New Column Based on a Condition (e.g., Senior or Junior)"
   ]
  },
  {
   "cell_type": "markdown",
   "id": "4120bf6f-09aa-455c-84d3-8ac11b28bed6",
   "metadata": {},
   "source": [
    "Step-by-Step Breakdown:\n",
    "\n",
    "❇️ Understanding df['Age'].apply(lambda x: 'Senior' if x > 30 else 'Junior')\n",
    "❇️ The .apply() function applies a transformation to each value in the Age column.\n",
    "❇️ The lambda x: function checks:\n",
    "❇️ If x (Age) is greater than 30, assign 'Senior'.\n",
    "❇️ Otherwise, assign 'Junior'."
   ]
  },
  {
   "cell_type": "code",
   "execution_count": 4,
   "id": "513e16b8-de96-4268-af60-5e2ffc5ef62b",
   "metadata": {},
   "outputs": [
    {
     "name": "stdout",
     "output_type": "stream",
     "text": [
      "   ID     Name  Age  Salary Department Seniority\n",
      "0   1    Alice   25   50000         HR    Junior\n",
      "1   2      Bob   30   60000         IT    Junior\n",
      "2   3  Charlie   35   70000         IT    Senior\n",
      "3   4    David   40   80000    Finance    Senior\n",
      "4   5      Eve   45   90000         HR    Senior\n"
     ]
    }
   ],
   "source": [
    "import pandas as pd\n",
    "\n",
    "data = {\n",
    "    'ID': [1, 2, 3, 4, 5],\n",
    "    'Name': ['Alice', 'Bob', 'Charlie', 'David', 'Eve'],\n",
    "    'Age': [25, 30, 35, 40, 45],\n",
    "    'Salary': [50000, 60000, 70000, 80000, 90000],\n",
    "    'Department': ['HR', 'IT', 'IT', 'Finance', 'HR']\n",
    "}\n",
    "\n",
    "# df = pd.DataFrame(data)\n",
    "# print(df)\n",
    "\n",
    "df['Seniority'] = df['Age'].apply(lambda x: 'Senior' if x > 30 else 'Junior')\n",
    "print(df)"
   ]
  },
  {
   "cell_type": "markdown",
   "id": "2139fb9f-766f-4e5d-914c-7c8cc918558a",
   "metadata": {},
   "source": [
    "Why This Works\n",
    "\n",
    "❇️ .apply() modifies each row of a column.\n",
    "❇️ lambda x: provides a quick inline condition without needing a separate function."
   ]
  },
  {
   "cell_type": "markdown",
   "id": "9985f599-3eea-48d2-89cb-cab9d88a983d",
   "metadata": {},
   "source": [
    "4. Map Values in a Column (e.g., Rename Departments)\n",
    "\n",
    "❇️ department_mapping = {...}\n",
    "❇️ Defines a dictionary to map old values to new values.\n",
    "❇️ df['Department'] selects the Department column.\n",
    "❇️ .map(department_mapping)\n",
    "❇️ Looks up each value in the dictionary.\n",
    "❇️ If the value exists in department_mapping, it replaces it.\n",
    "❇️ Else, it remains unchanged."
   ]
  },
  {
   "cell_type": "code",
   "execution_count": 5,
   "id": "5afa2858-c63b-43fc-ab3b-5ab7829f34d0",
   "metadata": {},
   "outputs": [
    {
     "name": "stdout",
     "output_type": "stream",
     "text": [
      "   ID     Name  Age  Salary        Department Seniority\n",
      "0   1    Alice   25   50000   Human Resources    Junior\n",
      "1   2      Bob   30   60000  Information Tech    Junior\n",
      "2   3  Charlie   35   70000  Information Tech    Senior\n",
      "3   4    David   40   80000        Accounting    Senior\n",
      "4   5      Eve   45   90000   Human Resources    Senior\n"
     ]
    }
   ],
   "source": [
    "import pandas as pd\n",
    "\n",
    "data = {\n",
    "    'ID': [1, 2, 3, 4, 5],\n",
    "    'Name': ['Alice', 'Bob', 'Charlie', 'David', 'Eve'],\n",
    "    'Age': [25, 30, 35, 40, 45],\n",
    "    'Salary': [50000, 60000, 70000, 80000, 90000],\n",
    "    'Department': ['HR', 'IT', 'IT', 'Finance', 'HR']\n",
    "}\n",
    "\n",
    "# df = pd.DataFrame(data)\n",
    "# print(df)\n",
    "\n",
    "department_mapping = {'HR': 'Human Resources', 'IT': 'Information Tech', 'Finance': 'Accounting'}\n",
    "df['Department'] = df['Department'].map(department_mapping)\n",
    "print(df)"
   ]
  },
  {
   "cell_type": "markdown",
   "id": "991f1809-ba6f-4c2f-a497-1723fd5a112a",
   "metadata": {},
   "source": [
    "Why This Works\n",
    "\n",
    "❇️ .map() is ideal for replacing values in a column based on a dictionary."
   ]
  },
  {
   "cell_type": "markdown",
   "id": "10f6dd14-50ae-4b71-bea7-1f9dd1a6e79c",
   "metadata": {},
   "source": [
    "5. Change Column Names\n",
    "\n",
    "Step-by-Step Breakdown:\n",
    "\n",
    "❇️ .rename(columns={...})\n",
    "❇️ The columns={} argument specifies which columns to rename.\n",
    "❇️ Dictionary keys are the old names ('ID', 'Name').\n",
    "❇️ Dictionary values are the new names ('Employee_ID', 'Employee_Name').\n",
    "❇️ The new DataFrame is stored in df_renamed."
   ]
  },
  {
   "cell_type": "code",
   "execution_count": 6,
   "id": "0f9f7795-bde5-4cb0-8928-312dde6d7f60",
   "metadata": {},
   "outputs": [
    {
     "name": "stdout",
     "output_type": "stream",
     "text": [
      "   Employee_ID Employee_Name  Age  Salary        Department Seniority\n",
      "0            1         Alice   25   50000   Human Resources    Junior\n",
      "1            2           Bob   30   60000  Information Tech    Junior\n",
      "2            3       Charlie   35   70000  Information Tech    Senior\n",
      "3            4         David   40   80000        Accounting    Senior\n",
      "4            5           Eve   45   90000   Human Resources    Senior\n"
     ]
    }
   ],
   "source": [
    "import pandas as pd\n",
    "\n",
    "data = {\n",
    "    'ID': [1, 2, 3, 4, 5],\n",
    "    'Name': ['Alice', 'Bob', 'Charlie', 'David', 'Eve'],\n",
    "    'Age': [25, 30, 35, 40, 45],\n",
    "    'Salary': [50000, 60000, 70000, 80000, 90000],\n",
    "    'Department': ['HR', 'IT', 'IT', 'Finance', 'HR']\n",
    "}\n",
    "\n",
    "# df = pd.DataFrame(data)\n",
    "# print(df)\n",
    "\n",
    "df_renamed = df.rename(columns={'ID': 'Employee_ID', 'Name': 'Employee_Name'})\n",
    "print(df_renamed)"
   ]
  },
  {
   "cell_type": "markdown",
   "id": "c36ba777-d82a-477e-85b3-38f946524140",
   "metadata": {},
   "source": [
    "Why This Works\n",
    "\n",
    "❇️ .rename() is a built-in Pandas method designed for changing column names.\n",
    "❇️ It allows renaming multiple columns at once."
   ]
  },
  {
   "cell_type": "markdown",
   "id": "3ce4a79f-9372-40f8-a3f4-b5e65f42a9c8",
   "metadata": {},
   "source": [
    "6.Creating a Tax Column (Assuming 20% Tax Rate)\n",
    "\n",
    "❇️ We'll calculate an estimated tax amount based on salary.\n",
    "❇️ Step-by-Step Breakdown:\n",
    "❇️ df['Salary'] selects the Salary column.\n",
    "❇️ * 0.20 multiplies each salary by 0.20 (20%).\n",
    "❇️ The result is stored in a new column \"Tax\"."
   ]
  },
  {
   "cell_type": "code",
   "execution_count": 7,
   "id": "e62136be-55c5-4a36-90a2-56df23a900db",
   "metadata": {},
   "outputs": [
    {
     "name": "stdout",
     "output_type": "stream",
     "text": [
      "   Employee_ID Employee_Name  Age  Salary        Department Seniority\n",
      "0            1         Alice   25   50000   Human Resources    Junior\n",
      "1            2           Bob   30   60000  Information Tech    Junior\n",
      "2            3       Charlie   35   70000  Information Tech    Senior\n",
      "3            4         David   40   80000        Accounting    Senior\n",
      "4            5           Eve   45   90000   Human Resources    Senior\n"
     ]
    }
   ],
   "source": [
    "import pandas as pd\n",
    "\n",
    "data = {\n",
    "    'ID': [1, 2, 3, 4, 5],\n",
    "    'Name': ['Alice', 'Bob', 'Charlie', 'David', 'Eve'],\n",
    "    'Age': [25, 30, 35, 40, 45],\n",
    "    'Salary': [50000, 60000, 70000, 80000, 90000],\n",
    "    'Department': ['HR', 'IT', 'IT', 'Finance', 'HR']\n",
    "}\n",
    "\n",
    "# df = pd.DataFrame(data)\n",
    "# print(df)\n",
    "\n",
    "df['Tax'] = df['Salary'] * 0.20\n",
    "print(df_renamed)"
   ]
  },
  {
   "cell_type": "markdown",
   "id": "0719485f-0902-4a73-8a3d-045ad647d14a",
   "metadata": {},
   "source": [
    "Why This Works\n",
    "\n",
    "❇️ Pandas supports vectorized operations, meaning df['Salary'] * 0.20 automatically applies the calculation to each row.\n",
    "❇️ This is faster than using .apply() with a function."
   ]
  }
 ],
 "metadata": {
  "kernelspec": {
   "display_name": "Python 3 (ipykernel)",
   "language": "python",
   "name": "python3"
  },
  "language_info": {
   "codemirror_mode": {
    "name": "ipython",
    "version": 3
   },
   "file_extension": ".py",
   "mimetype": "text/x-python",
   "name": "python",
   "nbconvert_exporter": "python",
   "pygments_lexer": "ipython3",
   "version": "3.13.1"
  }
 },
 "nbformat": 4,
 "nbformat_minor": 5
}
